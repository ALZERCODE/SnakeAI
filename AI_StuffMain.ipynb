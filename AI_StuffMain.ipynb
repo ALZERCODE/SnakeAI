{
 "cells": [
  {
   "attachments": {},
   "cell_type": "markdown",
   "metadata": {},
   "source": [
    "**1. Import Dependencies**"
   ]
  },
  {
   "cell_type": "code",
   "execution_count": 1,
   "metadata": {},
   "outputs": [],
   "source": [
    "# Import Gym Stuff\n",
    "import gym\n",
    "from gym import Env\n",
    "from gym.spaces import Discrete, Box, Dict, Tuple, MultiBinary, MultiDiscrete\n",
    "\n",
    "# Import helpers\n",
    "import numpy as np\n",
    "import random\n",
    "import os\n",
    "\n",
    "# Import stable baselines stuff\n",
    "from stable_baselines3 import PPO\n",
    "from stable_baselines3.common.vec_env import VecFrameStack\n",
    "from stable_baselines3.common.vec_env import DummyVecEnv, SubprocVecEnv\n",
    "from stable_baselines3.common.evaluation import evaluate_policy"
   ]
  },
  {
   "cell_type": "code",
   "execution_count": 2,
   "metadata": {},
   "outputs": [
    {
     "name": "stdout",
     "output_type": "stream",
     "text": [
      "pygame 2.1.2 (SDL 2.0.18, Python 3.8.15)\n",
      "Hello from the pygame community. https://www.pygame.org/contribute.html\n"
     ]
    }
   ],
   "source": [
    "#Import Game Stuff\n",
    "from snakeGame import SnakeGame"
   ]
  },
  {
   "attachments": {},
   "cell_type": "markdown",
   "metadata": {},
   "source": [
    "**2. Building the ENV**"
   ]
  },
  {
   "cell_type": "code",
   "execution_count": 3,
   "metadata": {},
   "outputs": [],
   "source": [
    "class SnakeENV(Env):\n",
    "        \n",
    "    def __init__(self, num_envs=1) -> None:\n",
    "        super(SnakeENV, self).__init__()\n",
    "        metadata = {'render.modes': ['human',]}\n",
    "\n",
    "        self.num_envs = num_envs\n",
    "       #self.game = [SnakeGame() for _ in range(self.num_envs)]\n",
    "        self.game = SnakeGame()\n",
    "\n",
    "        self.action_space = Discrete(4)\n",
    "        #self.observation_space = Dict([('head_pos', Box(low=np.array([0, 0]), high=np.array([self.game.window.width, self.game.window.height]), dtype=int)),\n",
    "        #                                ('fruit_pos', Box(low=np.array([0, 0]), high=np.array([self.game.window.width, self.game.window.height]), dtype=int)),\n",
    "        #                                ('length', Box(low=np.array([len(self.game.snake.body)]), high=np.array([self.game.window.width * self.game.window.height]), dtype=int)),\n",
    "        #                                ('direction', Discrete(4))\n",
    "        #                        ])\n",
    "\n",
    "        #self.observation_space = Dict([('head_pos', Box(low=np.array([0, 0]), high=np.array([self.game.window.width, self.game.window.height]), dtype=int)),\n",
    "        #                                ('fruit_pos', Box(low=np.array([0, 0]), high=np.array([self.game.window.width, self.game.window.height]), dtype=int)),\n",
    "        #                                ('free_space', MultiBinary(4))\n",
    "        #                        ])\n",
    "        \n",
    "        self.observation_space = Dict([('relative_to_fruit', Box(low=np.array([-1, -1]), high=np.array([1, 1]), dtype=np.float32)),\n",
    "                                        ('free_space', MultiBinary(4))\n",
    "                                ])\n",
    "        \n",
    "\n",
    "\n",
    "\n",
    "        self.time_run = 0\n",
    "\n",
    "    def isEpisodeLenght(self):\n",
    "        self.time_run += 1\n",
    "        return self.time_run > 6600\n",
    "\n",
    "    def step(self, action, render=False):\n",
    "        #done = self.isEpisodeLenght()\n",
    "\n",
    "        direction = self.action_to_direction(action)\n",
    "        reward, done = self.game.main(direction, render=render, isAI=True)\n",
    "\n",
    "        #self.state = {'head_pos': np.array(self.game.snake.head_pos).astype(int),\n",
    "        #                'fruit_pos': np.array(self.game.fruit.pos).astype(int),\n",
    "        #                'length': np.array(len(self.game.snake.body)).astype(int),\n",
    "        #                'direction': self.direction_to_action(self.game.snake.direction)\n",
    "        #            }\n",
    "\n",
    "        #self.state = {'head_pos': np.array(self.game.snake.head_pos).astype(int),\n",
    "        #                'fruit_pos': np.array(self.game.fruit.pos).astype(int),\n",
    "        #                'free_space': self.game.snake.get_free_space(self.game.window)\n",
    "        #            }\n",
    "\n",
    "        self.state = {\n",
    "            'relative_to_fruit': np.array(self.game.relative_to_fruit()).astype(np.float32),\n",
    "            'free_space': self.game.snake.get_free_space(self.game.window)\n",
    "        }\n",
    "\n",
    "\n",
    "        info = {}\n",
    "\n",
    "        return self.state, reward, done, info\n",
    "\n",
    "    def render(self, mode='human'):\n",
    "        self.game.render(mode=mode)\n",
    "\n",
    "    def reset(self):\n",
    "        self.game = SnakeGame()\n",
    "        self.game.snake.randomPos(self.game.window)\n",
    "        self.time_run = 0\n",
    "        #self.state = {'head_pos': np.array(self.game.snake.head_pos).astype(int),\n",
    "        #                'fruit_pos': np.array(self.game.fruit.pos).astype(int),\n",
    "        #                'length': np.array(len(self.game.snake.body)).astype(int),\n",
    "        #                'free_space': self.game.snake.get_free_space(self.game.window)\n",
    "        #            }\n",
    "        \n",
    "        self.state = {\n",
    "            'relative_to_fruit': np.array(self.game.relative_to_fruit()).astype(np.float32),\n",
    "            'free_space': self.game.snake.get_free_space(self.game.window)\n",
    "        }\n",
    "\n",
    "                    \n",
    "        return self.state\n",
    "\n",
    "\n",
    "    def action_to_direction(self, action):\n",
    "        if action == 0:\n",
    "            return 'UP'\n",
    "        elif action == 1:\n",
    "            return 'DOWN'\n",
    "        elif action == 2:\n",
    "            return 'LEFT'\n",
    "        elif action == 3:\n",
    "            return 'RIGHT'\n",
    "    def direction_to_action(self, direction):\n",
    "\n",
    "        if direction == 'UP':\n",
    "            return 0\n",
    "        elif direction == 'DOWN':\n",
    "            return 1\n",
    "        elif direction == 'LEFT':\n",
    "            return 2\n",
    "        elif direction == 'RIGHT':\n",
    "            return 3\n"
   ]
  },
  {
   "cell_type": "code",
   "execution_count": 4,
   "metadata": {},
   "outputs": [
    {
     "name": "stderr",
     "output_type": "stream",
     "text": [
      "/Users/alex/miniforge3/envs/gameAI/lib/python3.8/site-packages/gym/logger.py:34: UserWarning: \u001b[33mWARN: Box bound precision lowered by casting to float32\u001b[0m\n",
      "  warnings.warn(colorize(\"%s: %s\" % (\"WARN\", msg % args), \"yellow\"))\n"
     ]
    },
    {
     "name": "stdout",
     "output_type": "stream",
     "text": [
      "Episode: 1 Score: -500\n",
      "Episode: 2 Score: -500\n",
      "Episode: 3 Score: -500\n",
      "Episode: 4 Score: -500\n",
      "Episode: 5 Score: -500\n"
     ]
    }
   ],
   "source": [
    "env = SnakeENV()\n",
    "episodes = 5\n",
    "\n",
    "\n",
    "for episode in range(1, episodes+1):\n",
    "    state = env.reset()\n",
    "    done = False\n",
    "    score = 0\n",
    "\n",
    "    while not done:\n",
    "        env.render()\n",
    "        action = env.action_space.sample()\n",
    "        n_state, reward, done, info = env.step(action)\n",
    "        score += reward\n",
    "    print(f'Episode: {episode} Score: {score}')\n",
    "env.close()"
   ]
  },
  {
   "attachments": {},
   "cell_type": "markdown",
   "metadata": {},
   "source": [
    "**3. Train a PPO model**"
   ]
  },
  {
   "cell_type": "code",
   "execution_count": 5,
   "metadata": {},
   "outputs": [],
   "source": [
    "del env\n",
    "#env = SnakeENV()\n",
    "cpu_cores = 4\n",
    "#env = DummyVecEnv([lambda: SnakeENV])\n",
    "#env = SubprocVecEnv([lambda: SnakeENV for i in range(cpu_cores)])\n",
    "#env = VecFrameStack(env, n_stack=4)\n",
    "\n",
    "from stable_baselines3.common.env_util import make_vec_env\n",
    "env = make_vec_env(SnakeENV, n_envs=4)"
   ]
  },
  {
   "cell_type": "code",
   "execution_count": 6,
   "metadata": {},
   "outputs": [
    {
     "name": "stdout",
     "output_type": "stream",
     "text": [
      "Using cpu device\n"
     ]
    }
   ],
   "source": [
    "log_path = \"./Training/Logs/\"\n",
    "model = PPO(\"MultiInputPolicy\", env, verbose=1, tensorboard_log=log_path)"
   ]
  },
  {
   "cell_type": "code",
   "execution_count": 7,
   "metadata": {},
   "outputs": [],
   "source": [
    "#model.learn(total_timesteps=100000)"
   ]
  },
  {
   "cell_type": "code",
   "execution_count": 8,
   "metadata": {},
   "outputs": [
    {
     "name": "stdout",
     "output_type": "stream",
     "text": [
      "Logging to ./Training/Logs/PPO_17\n",
      "---------------------------------\n",
      "| rollout/           |          |\n",
      "|    ep_len_mean     | 3.84     |\n",
      "|    ep_rew_mean     | -500     |\n",
      "| time/              |          |\n",
      "|    fps             | 56       |\n",
      "|    iterations      | 1        |\n",
      "|    time_elapsed    | 145      |\n",
      "|    total_timesteps | 8192     |\n",
      "---------------------------------\n"
     ]
    }
   ],
   "source": [
    "timesteps = 500_000\n",
    "\n",
    "for i in range(4):\n",
    "    model.learn(total_timesteps=timesteps)\n",
    "    model.save(f\"./Training/Models/PPO_SnakeModelJustFruit_{(i+1)*timesteps}\")"
   ]
  },
  {
   "cell_type": "code",
   "execution_count": null,
   "metadata": {},
   "outputs": [],
   "source": [
    "#ppo_path = \"./Training/Models/PPO_Snake_Model_RightObs\"\n",
    "#model.save(ppo_path)"
   ]
  },
  {
   "cell_type": "code",
   "execution_count": null,
   "metadata": {},
   "outputs": [],
   "source": [
    "del model"
   ]
  },
  {
   "attachments": {},
   "cell_type": "markdown",
   "metadata": {},
   "source": [
    "**4. Eval and Test**"
   ]
  },
  {
   "cell_type": "code",
   "execution_count": null,
   "metadata": {},
   "outputs": [],
   "source": [
    "ppo_path = \"./Training/Models/PPO_SnakeModelBin_500000\"\n",
    "\n",
    "env = DummyVecEnv([lambda: SnakeENV()])\n",
    "model = PPO.load(ppo_path, env)"
   ]
  },
  {
   "cell_type": "code",
   "execution_count": null,
   "metadata": {},
   "outputs": [],
   "source": [
    "evaluate_policy(model, env, n_eval_episodes=10, render=True, deterministic=True)"
   ]
  }
 ],
 "metadata": {
  "kernelspec": {
   "display_name": "gameAI",
   "language": "python",
   "name": "python3"
  },
  "language_info": {
   "codemirror_mode": {
    "name": "ipython",
    "version": 3
   },
   "file_extension": ".py",
   "mimetype": "text/x-python",
   "name": "python",
   "nbconvert_exporter": "python",
   "pygments_lexer": "ipython3",
   "version": "3.8.15"
  },
  "orig_nbformat": 4,
  "vscode": {
   "interpreter": {
    "hash": "15f7727ce8d2895f6ec9d60196c112ed0686943606574ac3f5c99d53edfa75c1"
   }
  }
 },
 "nbformat": 4,
 "nbformat_minor": 2
}
